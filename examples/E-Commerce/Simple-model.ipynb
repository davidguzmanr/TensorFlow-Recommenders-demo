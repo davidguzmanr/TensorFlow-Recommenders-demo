{
 "cells": [
  {
   "cell_type": "code",
   "execution_count": 34,
   "id": "3441036c-73a6-4f81-af03-313b74642e0b",
   "metadata": {},
   "outputs": [
    {
     "name": "stdout",
     "output_type": "stream",
     "text": [
      "The autoreload extension is already loaded. To reload it, use:\n",
      "  %reload_ext autoreload\n"
     ]
    }
   ],
   "source": [
    "from typing import Dict, Text\n",
    "\n",
    "import numpy as np\n",
    "import pandas as pd\n",
    "import tensorflow as tf\n",
    "import tensorflow_datasets as tfds\n",
    "import tensorflow_recommenders as tfrs\n",
    "\n",
    "from recommender import dataset\n",
    "from recommender.model import ECommerceModel\n",
    "\n",
    "tf.random.set_seed(42)\n",
    "\n",
    "%load_ext autoreload\n",
    "%autoreload 2 "
   ]
  },
  {
   "cell_type": "code",
   "execution_count": 8,
   "id": "1fad287d-5cb8-442e-884e-e309c87cf19a",
   "metadata": {},
   "outputs": [
    {
     "data": {
      "text/plain": [
       "[PhysicalDevice(name='/physical_device:GPU:0', device_type='GPU')]"
      ]
     },
     "execution_count": 8,
     "metadata": {},
     "output_type": "execute_result"
    }
   ],
   "source": [
    "devices = tf.config.list_physical_devices('GPU')\n",
    "devices"
   ]
  },
  {
   "cell_type": "code",
   "execution_count": 46,
   "id": "a04dbd7b-a3b6-4905-833f-a503bfa98b6a",
   "metadata": {},
   "outputs": [
    {
     "name": "stdout",
     "output_type": "stream",
     "text": [
      "Data shape (18067, 9)\n"
     ]
    },
    {
     "data": {
      "text/html": [
       "<div>\n",
       "<style scoped>\n",
       "    .dataframe tbody tr th:only-of-type {\n",
       "        vertical-align: middle;\n",
       "    }\n",
       "\n",
       "    .dataframe tbody tr th {\n",
       "        vertical-align: top;\n",
       "    }\n",
       "\n",
       "    .dataframe thead th {\n",
       "        text-align: right;\n",
       "    }\n",
       "</style>\n",
       "<table border=\"1\" class=\"dataframe\">\n",
       "  <thead>\n",
       "    <tr style=\"text-align: right;\">\n",
       "      <th></th>\n",
       "      <th>InvoiceNo</th>\n",
       "      <th>StockCode</th>\n",
       "      <th>Description</th>\n",
       "      <th>Quantity</th>\n",
       "      <th>InvoiceDate</th>\n",
       "      <th>UnitPrice</th>\n",
       "      <th>CustomerID</th>\n",
       "      <th>Country</th>\n",
       "      <th>timestamp</th>\n",
       "    </tr>\n",
       "  </thead>\n",
       "  <tbody>\n",
       "    <tr>\n",
       "      <th>438319</th>\n",
       "      <td>574311</td>\n",
       "      <td>23382</td>\n",
       "      <td>BOX OF 6 CHRISTMAS CAKE DECORATIONS</td>\n",
       "      <td>6</td>\n",
       "      <td>2011-11-03 16:56:00</td>\n",
       "      <td>3.75</td>\n",
       "      <td>15640</td>\n",
       "      <td>United Kingdom</td>\n",
       "      <td>1.320339e+09</td>\n",
       "    </tr>\n",
       "    <tr>\n",
       "      <th>28901</th>\n",
       "      <td>538662</td>\n",
       "      <td>79321</td>\n",
       "      <td>CHILLI LIGHTS</td>\n",
       "      <td>24</td>\n",
       "      <td>2010-12-13 15:44:00</td>\n",
       "      <td>4.25</td>\n",
       "      <td>15159</td>\n",
       "      <td>United Kingdom</td>\n",
       "      <td>1.292255e+09</td>\n",
       "    </tr>\n",
       "    <tr>\n",
       "      <th>466055</th>\n",
       "      <td>576301</td>\n",
       "      <td>22470</td>\n",
       "      <td>HEART OF WICKER LARGE</td>\n",
       "      <td>4</td>\n",
       "      <td>2011-11-14 14:40:00</td>\n",
       "      <td>2.95</td>\n",
       "      <td>14667</td>\n",
       "      <td>United Kingdom</td>\n",
       "      <td>1.321282e+09</td>\n",
       "    </tr>\n",
       "    <tr>\n",
       "      <th>194702</th>\n",
       "      <td>553663</td>\n",
       "      <td>21080</td>\n",
       "      <td>SET/20 RED RETROSPOT PAPER NAPKINS</td>\n",
       "      <td>3</td>\n",
       "      <td>2011-05-18 12:13:00</td>\n",
       "      <td>0.85</td>\n",
       "      <td>14527</td>\n",
       "      <td>United Kingdom</td>\n",
       "      <td>1.305721e+09</td>\n",
       "    </tr>\n",
       "    <tr>\n",
       "      <th>55819</th>\n",
       "      <td>540999</td>\n",
       "      <td>21633</td>\n",
       "      <td>SUNFLOWER DECORATIVE PARASOL</td>\n",
       "      <td>30</td>\n",
       "      <td>2011-01-13 10:08:00</td>\n",
       "      <td>3.95</td>\n",
       "      <td>13694</td>\n",
       "      <td>United Kingdom</td>\n",
       "      <td>1.294913e+09</td>\n",
       "    </tr>\n",
       "  </tbody>\n",
       "</table>\n",
       "</div>"
      ],
      "text/plain": [
       "       InvoiceNo StockCode                          Description  Quantity  \\\n",
       "438319    574311     23382  BOX OF 6 CHRISTMAS CAKE DECORATIONS         6   \n",
       "28901     538662     79321                        CHILLI LIGHTS        24   \n",
       "466055    576301     22470                HEART OF WICKER LARGE         4   \n",
       "194702    553663     21080  SET/20 RED RETROSPOT PAPER NAPKINS          3   \n",
       "55819     540999     21633         SUNFLOWER DECORATIVE PARASOL        30   \n",
       "\n",
       "               InvoiceDate  UnitPrice CustomerID         Country     timestamp  \n",
       "438319 2011-11-03 16:56:00       3.75      15640  United Kingdom  1.320339e+09  \n",
       "28901  2010-12-13 15:44:00       4.25      15159  United Kingdom  1.292255e+09  \n",
       "466055 2011-11-14 14:40:00       2.95      14667  United Kingdom  1.321282e+09  \n",
       "194702 2011-05-18 12:13:00       0.85      14527  United Kingdom  1.305721e+09  \n",
       "55819  2011-01-13 10:08:00       3.95      13694  United Kingdom  1.294913e+09  "
      ]
     },
     "execution_count": 46,
     "metadata": {},
     "output_type": "execute_result"
    }
   ],
   "source": [
    "data = pd.read_csv(\n",
    "    'data/Online-Retail.csv',\n",
    "    dtype={'CustomerID': str, 'StockCode': str},\n",
    "    parse_dates=['InvoiceDate'],\n",
    ")\n",
    "data = dataset.preprocess_data(data)\n",
    "\n",
    "# item_id -> description\n",
    "item_to_description = dict(data[['StockCode', 'Description']].values)\n",
    "\n",
    "print(f'Data shape {data.shape}')\n",
    "data.head()"
   ]
  },
  {
   "cell_type": "code",
   "execution_count": 12,
   "id": "37957f82-4919-47fa-9973-17287a3511e4",
   "metadata": {},
   "outputs": [
    {
     "name": "stderr",
     "output_type": "stream",
     "text": [
      "2022-06-06 00:47:59.689629: I tensorflow/core/platform/cpu_feature_guard.cc:151] This TensorFlow binary is optimized with oneAPI Deep Neural Network Library (oneDNN) to use the following CPU instructions in performance-critical operations:  AVX2 FMA\n",
      "To enable them in other operations, rebuild TensorFlow with the appropriate compiler flags.\n",
      "2022-06-06 00:47:59.690207: I tensorflow/stream_executor/cuda/cuda_gpu_executor.cc:936] successful NUMA node read from SysFS had negative value (-1), but there must be at least one NUMA node, so returning NUMA node zero\n",
      "2022-06-06 00:47:59.690452: I tensorflow/stream_executor/cuda/cuda_gpu_executor.cc:936] successful NUMA node read from SysFS had negative value (-1), but there must be at least one NUMA node, so returning NUMA node zero\n",
      "2022-06-06 00:47:59.690786: I tensorflow/stream_executor/cuda/cuda_gpu_executor.cc:936] successful NUMA node read from SysFS had negative value (-1), but there must be at least one NUMA node, so returning NUMA node zero\n",
      "2022-06-06 00:48:00.064034: I tensorflow/stream_executor/cuda/cuda_gpu_executor.cc:936] successful NUMA node read from SysFS had negative value (-1), but there must be at least one NUMA node, so returning NUMA node zero\n",
      "2022-06-06 00:48:00.064257: I tensorflow/stream_executor/cuda/cuda_gpu_executor.cc:936] successful NUMA node read from SysFS had negative value (-1), but there must be at least one NUMA node, so returning NUMA node zero\n",
      "2022-06-06 00:48:00.064442: I tensorflow/stream_executor/cuda/cuda_gpu_executor.cc:936] successful NUMA node read from SysFS had negative value (-1), but there must be at least one NUMA node, so returning NUMA node zero\n",
      "2022-06-06 00:48:00.064611: I tensorflow/core/common_runtime/gpu/gpu_device.cc:1525] Created device /job:localhost/replica:0/task:0/device:GPU:0 with 469 MB memory:  -> device: 0, name: Quadro T2000, pci bus id: 0000:01:00.0, compute capability: 7.5\n"
     ]
    }
   ],
   "source": [
    "purchases = dataset.create_tf_dataset(data)"
   ]
  },
  {
   "cell_type": "code",
   "execution_count": 14,
   "id": "10490259-c937-4dd3-a078-7cc57a839f89",
   "metadata": {},
   "outputs": [],
   "source": [
    "interactions = purchases.map(lambda x: {\n",
    "    'user_id': x['user_id'], \n",
    "    'item_id': x['item_id']\n",
    "})\n",
    "users = purchases.map(lambda x: x['user_id'])\n",
    "items = purchases.map(lambda x: x['item_id'])"
   ]
  },
  {
   "cell_type": "code",
   "execution_count": 15,
   "id": "e1ee79b2-8007-4dee-a08e-955a5fcfb4e5",
   "metadata": {},
   "outputs": [
    {
     "name": "stdout",
     "output_type": "stream",
     "text": [
      "{'user_id': b'15640', 'item_id': b'23382'}\n",
      "{'user_id': b'15159', 'item_id': b'79321'}\n",
      "{'user_id': b'14667', 'item_id': b'22470'}\n",
      "{'user_id': b'14527', 'item_id': b'21080'}\n",
      "{'user_id': b'13694', 'item_id': b'21633'}\n",
      "{'user_id': b'15194', 'item_id': b'22867'}\n",
      "{'user_id': b'13408', 'item_id': b'23205'}\n",
      "{'user_id': b'14715', 'item_id': b'82552'}\n",
      "{'user_id': b'17523', 'item_id': b'22751'}\n",
      "{'user_id': b'12748', 'item_id': b'22170'}\n"
     ]
    }
   ],
   "source": [
    "for x in interactions.take(10).as_numpy_iterator():\n",
    "    print(x)"
   ]
  },
  {
   "cell_type": "code",
   "execution_count": 16,
   "id": "92ac86a9-c5e9-4988-9b3c-1bdc326d6c52",
   "metadata": {},
   "outputs": [],
   "source": [
    "user_ids_vocabulary = tf.keras.layers.StringLookup(mask_token=None)\n",
    "user_ids_vocabulary.adapt(users)\n",
    "\n",
    "item_ids_vocabulary = tf.keras.layers.StringLookup(mask_token=None)\n",
    "item_ids_vocabulary.adapt(items)"
   ]
  },
  {
   "cell_type": "code",
   "execution_count": 45,
   "id": "c28d6a69-2486-447b-9b4e-98feb78c1dbd",
   "metadata": {},
   "outputs": [
    {
     "data": {
      "text/plain": [
       "<tf.Tensor: shape=(1, 3), dtype=int64, numpy=array([[ 4,  0, 85]])>"
      ]
     },
     "execution_count": 45,
     "metadata": {},
     "output_type": "execute_result"
    }
   ],
   "source": [
    "indices = tf.constant([[\"12748\", \"Hola\", \"15640\"]])\n",
    "user_ids_vocabulary(data)"
   ]
  },
  {
   "cell_type": "code",
   "execution_count": 24,
   "id": "81ca408c-a2d9-4796-90a0-3887911c375d",
   "metadata": {},
   "outputs": [
    {
     "data": {
      "text/plain": [
       "'15640'"
      ]
     },
     "execution_count": 24,
     "metadata": {},
     "output_type": "execute_result"
    }
   ],
   "source": [
    "user_ids_vocabulary.get_vocabulary()[85]"
   ]
  },
  {
   "cell_type": "code",
   "execution_count": 30,
   "id": "5f3e93ee-e56e-4db2-bbf7-b93f20d21a57",
   "metadata": {},
   "outputs": [],
   "source": [
    "dataset_size = len(interactions)\n",
    "\n",
    "train_size = int(0.9 * dataset_size)\n",
    "val_size = int(0.1 * dataset_size)\n",
    "\n",
    "train_dataset = interactions.take(train_size)\n",
    "val_dataset = interactions.skip(train_size)"
   ]
  },
  {
   "cell_type": "code",
   "execution_count": 32,
   "id": "a34b22d7-aa53-499b-92b3-500bd4c31878",
   "metadata": {},
   "outputs": [],
   "source": [
    "# Define user and movie models.\n",
    "user_model = tf.keras.Sequential([\n",
    "    user_ids_vocabulary,\n",
    "    tf.keras.layers.Embedding(user_ids_vocabulary.vocabulary_size(), 64)\n",
    "])\n",
    "\n",
    "item_model = tf.keras.Sequential([\n",
    "    item_ids_vocabulary,\n",
    "    tf.keras.layers.Embedding(item_ids_vocabulary.vocabulary_size(), 64)\n",
    "])\n",
    "\n",
    "# Define your objectives.\n",
    "task = tfrs.tasks.Retrieval(metrics=tfrs.metrics.FactorizedTopK(\n",
    "    items.batch(128).map(item_model)\n",
    "  )\n",
    ")"
   ]
  },
  {
   "cell_type": "code",
   "execution_count": 33,
   "id": "0473d901-027f-43fc-a2f4-3d23468767b8",
   "metadata": {},
   "outputs": [],
   "source": [
    "# Create a retrieval model.\n",
    "model = ECommerceModel(user_model, item_model, task)\n",
    "model.compile(optimizer=tf.keras.optimizers.Adagrad(0.5))"
   ]
  },
  {
   "cell_type": "code",
   "execution_count": 38,
   "id": "350dac35-57d8-443c-b7e0-c8a52abcb19b",
   "metadata": {},
   "outputs": [
    {
     "name": "stdout",
     "output_type": "stream",
     "text": [
      "Epoch 1/5\n",
      "4/4 [==============================] - 10s 2s/step - factorized_top_k/top_1_categorical_accuracy: 6.7651e-04 - factorized_top_k/top_5_categorical_accuracy: 7.9951e-04 - factorized_top_k/top_10_categorical_accuracy: 9.2251e-04 - factorized_top_k/top_50_categorical_accuracy: 0.0025 - factorized_top_k/top_100_categorical_accuracy: 0.0034 - loss: 34918.7758 - regularization_loss: 0.0000e+00 - total_loss: 34918.7758 - val_factorized_top_k/top_1_categorical_accuracy: 0.0039 - val_factorized_top_k/top_5_categorical_accuracy: 0.0039 - val_factorized_top_k/top_10_categorical_accuracy: 0.0044 - val_factorized_top_k/top_50_categorical_accuracy: 0.0100 - val_factorized_top_k/top_100_categorical_accuracy: 0.0172 - val_loss: 15309.7168 - val_regularization_loss: 0.0000e+00 - val_total_loss: 15309.7168\n",
      "Epoch 2/5\n",
      "4/4 [==============================] - 9s 2s/step - factorized_top_k/top_1_categorical_accuracy: 0.0028 - factorized_top_k/top_5_categorical_accuracy: 0.0042 - factorized_top_k/top_10_categorical_accuracy: 0.0063 - factorized_top_k/top_50_categorical_accuracy: 0.0230 - factorized_top_k/top_100_categorical_accuracy: 0.0439 - loss: 34420.0984 - regularization_loss: 0.0000e+00 - total_loss: 34420.0984 - val_factorized_top_k/top_1_categorical_accuracy: 0.0028 - val_factorized_top_k/top_5_categorical_accuracy: 0.0033 - val_factorized_top_k/top_10_categorical_accuracy: 0.0055 - val_factorized_top_k/top_50_categorical_accuracy: 0.0166 - val_factorized_top_k/top_100_categorical_accuracy: 0.0255 - val_loss: 15924.7402 - val_regularization_loss: 0.0000e+00 - val_total_loss: 15924.7402\n",
      "Epoch 3/5\n",
      "4/4 [==============================] - 8s 2s/step - factorized_top_k/top_1_categorical_accuracy: 0.0147 - factorized_top_k/top_5_categorical_accuracy: 0.0330 - factorized_top_k/top_10_categorical_accuracy: 0.0511 - factorized_top_k/top_50_categorical_accuracy: 0.1517 - factorized_top_k/top_100_categorical_accuracy: 0.2429 - loss: 27769.5387 - regularization_loss: 0.0000e+00 - total_loss: 27769.5387 - val_factorized_top_k/top_1_categorical_accuracy: 0.0033 - val_factorized_top_k/top_5_categorical_accuracy: 0.0039 - val_factorized_top_k/top_10_categorical_accuracy: 0.0050 - val_factorized_top_k/top_50_categorical_accuracy: 0.0194 - val_factorized_top_k/top_100_categorical_accuracy: 0.0310 - val_loss: 17036.0547 - val_regularization_loss: 0.0000e+00 - val_total_loss: 17036.0547\n",
      "Epoch 4/5\n",
      "4/4 [==============================] - 9s 2s/step - factorized_top_k/top_1_categorical_accuracy: 0.0430 - factorized_top_k/top_5_categorical_accuracy: 0.0651 - factorized_top_k/top_10_categorical_accuracy: 0.0879 - factorized_top_k/top_50_categorical_accuracy: 0.2309 - factorized_top_k/top_100_categorical_accuracy: 0.3686 - loss: 24610.7594 - regularization_loss: 0.0000e+00 - total_loss: 24610.7594 - val_factorized_top_k/top_1_categorical_accuracy: 0.0028 - val_factorized_top_k/top_5_categorical_accuracy: 0.0033 - val_factorized_top_k/top_10_categorical_accuracy: 0.0050 - val_factorized_top_k/top_50_categorical_accuracy: 0.0177 - val_factorized_top_k/top_100_categorical_accuracy: 0.0315 - val_loss: 17324.2109 - val_regularization_loss: 0.0000e+00 - val_total_loss: 17324.2109\n",
      "Epoch 5/5\n",
      "4/4 [==============================] - 8s 2s/step - factorized_top_k/top_1_categorical_accuracy: 0.0335 - factorized_top_k/top_5_categorical_accuracy: 0.0590 - factorized_top_k/top_10_categorical_accuracy: 0.0875 - factorized_top_k/top_50_categorical_accuracy: 0.2597 - factorized_top_k/top_100_categorical_accuracy: 0.4125 - loss: 23105.8738 - regularization_loss: 0.0000e+00 - total_loss: 23105.8738 - val_factorized_top_k/top_1_categorical_accuracy: 0.0011 - val_factorized_top_k/top_5_categorical_accuracy: 0.0028 - val_factorized_top_k/top_10_categorical_accuracy: 0.0072 - val_factorized_top_k/top_50_categorical_accuracy: 0.0243 - val_factorized_top_k/top_100_categorical_accuracy: 0.0371 - val_loss: 17524.3828 - val_regularization_loss: 0.0000e+00 - val_total_loss: 17524.3828\n"
     ]
    },
    {
     "data": {
      "text/plain": [
       "<keras.callbacks.History at 0x7fee8c61e350>"
      ]
     },
     "execution_count": 38,
     "metadata": {},
     "output_type": "execute_result"
    }
   ],
   "source": [
    "tensorboard_callback = tf.keras.callbacks.TensorBoard(log_dir=\"./logs\", update_freq='epoch')\n",
    "\n",
    "model.fit(\n",
    "    x=train_dataset.batch(4096),\n",
    "    validation_data=val_dataset.batch(4096),\n",
    "    epochs=5,\n",
    "    callbacks=[tensorboard_callback]\n",
    ")"
   ]
  },
  {
   "cell_type": "code",
   "execution_count": 50,
   "id": "116dab69-060d-4458-a326-38f848f07ac6",
   "metadata": {},
   "outputs": [],
   "source": [
    "unique_items = {'item_id': data['StockCode'].unique()}\n",
    "unique_items = tf.data.Dataset.from_tensor_slices(unique_items)\n",
    "\n",
    "unique_items = unique_items.map(lambda x: x['item_id'])"
   ]
  },
  {
   "cell_type": "code",
   "execution_count": 59,
   "id": "1236319b-a057-498d-8eb1-85003461ccb6",
   "metadata": {},
   "outputs": [
    {
     "data": {
      "text/plain": [
       "['[UNK]',\n",
       " '17841',\n",
       " '14911',\n",
       " '14096',\n",
       " '12748',\n",
       " '14606',\n",
       " '15311',\n",
       " '14646',\n",
       " '13089',\n",
       " '13263']"
      ]
     },
     "execution_count": 59,
     "metadata": {},
     "output_type": "execute_result"
    }
   ],
   "source": [
    "user_ids_vocabulary.get_vocabulary()[0:10]"
   ]
  },
  {
   "cell_type": "code",
   "execution_count": 61,
   "id": "48fe63a5-44bf-4836-813d-081c0ff76cd9",
   "metadata": {},
   "outputs": [
    {
     "name": "stdout",
     "output_type": "stream",
     "text": [
      "History :\n",
      "        StockCode                        Description\n",
      "407540     23556      LANDMARK FRAME COVENT GARDEN \n",
      "448490     22712                   CARD DOLLY GIRL \n",
      "467556     82484  WOOD BLACK BOARD ANT WHITE FINISH\n",
      "478575     23389             SPACEBOY MINI BACKPACK\n",
      "518061     22294         HEART FILIGREE DOVE  SMALL\n",
      "518861     23084                 RABBIT NIGHT LIGHT\n",
      "526603     23371    SET 36 COLOUR PENCILS SPACEBOY \n",
      "526610     23209           LUNCH BAG VINTAGE DOILY \n",
      "526619     22835    HOT WATER BOTTLE I AM SO POORLY\n",
      "526658     22457    NATURAL SLATE HEART CHALKBOARD \n",
      "\n",
      "Recommendations\n",
      "     Item_id                         Description    Scores\n",
      "0  b'21422'                PORCELAIN ROSE SMALL  8.755688\n",
      "1  b'21191'  LARGE WHITE HONEYCOMB PAPER BELL    7.877553\n",
      "2  b'23347'                I LOVE LONDON BEAKER  6.701897\n",
      "3  b'22478'            BIRDHOUSE GARDEN MARKER   6.589825\n",
      "4  b'23150'          IVORY SWEETHEART SOAP DISH  5.549895\n",
      "5  b'22359'              GLASS JAR KINGS CHOICE  5.293782\n",
      "6  b'22294'          HEART FILIGREE DOVE  SMALL  5.007408\n",
      "7  b'22892'   SET OF SALT AND PEPPER TOADSTOOLS  4.942094\n",
      "8  b'22364'        GLASS JAR DIGESTIVE BISCUITS  4.868329\n",
      "9  b'22819'           BIRTHDAY CARD, RETRO SPOT  4.822355\n"
     ]
    }
   ],
   "source": [
    "user_id = '13089'\n",
    "\n",
    "past_purchases = data[data['CustomerID'] == user_id].sort_values(by='InvoiceDate')\n",
    "print(f\"History :\\n {past_purchases[['StockCode', 'Description']].tail(10)}\\n\")\n",
    "\n",
    "# Use brute-force search to set up retrieval using the trained representations.\n",
    "index = tfrs.layers.factorized_top_k.BruteForce(model.user_model)\n",
    "index.index_from_dataset(\n",
    "    unique_items.batch(128).map(lambda title: (title, model.item_model(title)))\n",
    ")\n",
    "\n",
    "# Get some recommendations.\n",
    "scores, items = index(np.array([user_id]))\n",
    "recommendations = pd.DataFrame()\n",
    "recommendations['Item_id'] = items.numpy().flatten()\n",
    "recommendations['Description'] = recommendations['Item_id'].apply(lambda x: x.decode('utf-8')).map(item_to_description)\n",
    "recommendations['Scores'] = scores.numpy().flatten()\n",
    "\n",
    "print(f'Recommendations\\n {recommendations}')"
   ]
  }
 ],
 "metadata": {
  "kernelspec": {
   "display_name": "Python 3 (ipykernel)",
   "language": "python",
   "name": "python3"
  },
  "language_info": {
   "codemirror_mode": {
    "name": "ipython",
    "version": 3
   },
   "file_extension": ".py",
   "mimetype": "text/x-python",
   "name": "python",
   "nbconvert_exporter": "python",
   "pygments_lexer": "ipython3",
   "version": "3.7.13"
  }
 },
 "nbformat": 4,
 "nbformat_minor": 5
}
