{
 "cells": [
  {
   "cell_type": "code",
   "execution_count": 1,
   "id": "3441036c-73a6-4f81-af03-313b74642e0b",
   "metadata": {},
   "outputs": [],
   "source": [
    "from typing import Dict, Text\n",
    "\n",
    "import numpy as np\n",
    "import pandas as pd\n",
    "import tensorflow as tf\n",
    "import tensorflow_datasets as tfds\n",
    "import tensorflow_recommenders as tfrs"
   ]
  },
  {
   "cell_type": "code",
   "execution_count": 2,
   "id": "1fad287d-5cb8-442e-884e-e309c87cf19a",
   "metadata": {},
   "outputs": [
    {
     "name": "stderr",
     "output_type": "stream",
     "text": [
      "2022-05-29 21:14:52.712892: I tensorflow/stream_executor/cuda/cuda_gpu_executor.cc:936] successful NUMA node read from SysFS had negative value (-1), but there must be at least one NUMA node, so returning NUMA node zero\n",
      "2022-05-29 21:14:52.718082: I tensorflow/stream_executor/cuda/cuda_gpu_executor.cc:936] successful NUMA node read from SysFS had negative value (-1), but there must be at least one NUMA node, so returning NUMA node zero\n",
      "2022-05-29 21:14:52.718331: I tensorflow/stream_executor/cuda/cuda_gpu_executor.cc:936] successful NUMA node read from SysFS had negative value (-1), but there must be at least one NUMA node, so returning NUMA node zero\n"
     ]
    },
    {
     "data": {
      "text/plain": [
       "[PhysicalDevice(name='/physical_device:GPU:0', device_type='GPU')]"
      ]
     },
     "execution_count": 2,
     "metadata": {},
     "output_type": "execute_result"
    }
   ],
   "source": [
    "devices = tf.config.list_physical_devices('GPU')\n",
    "devices"
   ]
  },
  {
   "cell_type": "code",
   "execution_count": 169,
   "id": "a04dbd7b-a3b6-4905-833f-a503bfa98b6a",
   "metadata": {},
   "outputs": [
    {
     "name": "stdout",
     "output_type": "stream",
     "text": [
      "Data shape (18067, 9)\n"
     ]
    },
    {
     "data": {
      "text/html": [
       "<div>\n",
       "<style scoped>\n",
       "    .dataframe tbody tr th:only-of-type {\n",
       "        vertical-align: middle;\n",
       "    }\n",
       "\n",
       "    .dataframe tbody tr th {\n",
       "        vertical-align: top;\n",
       "    }\n",
       "\n",
       "    .dataframe thead th {\n",
       "        text-align: right;\n",
       "    }\n",
       "</style>\n",
       "<table border=\"1\" class=\"dataframe\">\n",
       "  <thead>\n",
       "    <tr style=\"text-align: right;\">\n",
       "      <th></th>\n",
       "      <th>InvoiceNo</th>\n",
       "      <th>StockCode</th>\n",
       "      <th>Description</th>\n",
       "      <th>Quantity</th>\n",
       "      <th>InvoiceDate</th>\n",
       "      <th>UnitPrice</th>\n",
       "      <th>CustomerID</th>\n",
       "      <th>Country</th>\n",
       "      <th>timestamp</th>\n",
       "    </tr>\n",
       "  </thead>\n",
       "  <tbody>\n",
       "    <tr>\n",
       "      <th>438319</th>\n",
       "      <td>574311</td>\n",
       "      <td>23382</td>\n",
       "      <td>BOX OF 6 CHRISTMAS CAKE DECORATIONS</td>\n",
       "      <td>6</td>\n",
       "      <td>2011-11-03 16:56:00</td>\n",
       "      <td>3.75</td>\n",
       "      <td>15640</td>\n",
       "      <td>United Kingdom</td>\n",
       "      <td>1.320339e+09</td>\n",
       "    </tr>\n",
       "    <tr>\n",
       "      <th>28901</th>\n",
       "      <td>538662</td>\n",
       "      <td>79321</td>\n",
       "      <td>CHILLI LIGHTS</td>\n",
       "      <td>24</td>\n",
       "      <td>2010-12-13 15:44:00</td>\n",
       "      <td>4.25</td>\n",
       "      <td>15159</td>\n",
       "      <td>United Kingdom</td>\n",
       "      <td>1.292255e+09</td>\n",
       "    </tr>\n",
       "    <tr>\n",
       "      <th>466055</th>\n",
       "      <td>576301</td>\n",
       "      <td>22470</td>\n",
       "      <td>HEART OF WICKER LARGE</td>\n",
       "      <td>4</td>\n",
       "      <td>2011-11-14 14:40:00</td>\n",
       "      <td>2.95</td>\n",
       "      <td>14667</td>\n",
       "      <td>United Kingdom</td>\n",
       "      <td>1.321282e+09</td>\n",
       "    </tr>\n",
       "    <tr>\n",
       "      <th>194702</th>\n",
       "      <td>553663</td>\n",
       "      <td>21080</td>\n",
       "      <td>SET/20 RED RETROSPOT PAPER NAPKINS</td>\n",
       "      <td>3</td>\n",
       "      <td>2011-05-18 12:13:00</td>\n",
       "      <td>0.85</td>\n",
       "      <td>14527</td>\n",
       "      <td>United Kingdom</td>\n",
       "      <td>1.305721e+09</td>\n",
       "    </tr>\n",
       "    <tr>\n",
       "      <th>55819</th>\n",
       "      <td>540999</td>\n",
       "      <td>21633</td>\n",
       "      <td>SUNFLOWER DECORATIVE PARASOL</td>\n",
       "      <td>30</td>\n",
       "      <td>2011-01-13 10:08:00</td>\n",
       "      <td>3.95</td>\n",
       "      <td>13694</td>\n",
       "      <td>United Kingdom</td>\n",
       "      <td>1.294913e+09</td>\n",
       "    </tr>\n",
       "  </tbody>\n",
       "</table>\n",
       "</div>"
      ],
      "text/plain": [
       "       InvoiceNo StockCode                          Description  Quantity  \\\n",
       "438319    574311     23382  BOX OF 6 CHRISTMAS CAKE DECORATIONS         6   \n",
       "28901     538662     79321                        CHILLI LIGHTS        24   \n",
       "466055    576301     22470                HEART OF WICKER LARGE         4   \n",
       "194702    553663     21080  SET/20 RED RETROSPOT PAPER NAPKINS          3   \n",
       "55819     540999     21633         SUNFLOWER DECORATIVE PARASOL        30   \n",
       "\n",
       "               InvoiceDate  UnitPrice CustomerID         Country     timestamp  \n",
       "438319 2011-11-03 16:56:00       3.75      15640  United Kingdom  1.320339e+09  \n",
       "28901  2010-12-13 15:44:00       4.25      15159  United Kingdom  1.292255e+09  \n",
       "466055 2011-11-14 14:40:00       2.95      14667  United Kingdom  1.321282e+09  \n",
       "194702 2011-05-18 12:13:00       0.85      14527  United Kingdom  1.305721e+09  \n",
       "55819  2011-01-13 10:08:00       3.95      13694  United Kingdom  1.294913e+09  "
      ]
     },
     "execution_count": 169,
     "metadata": {},
     "output_type": "execute_result"
    }
   ],
   "source": [
    "data = pd.read_csv(\n",
    "    'data/Online-Retail.csv',\n",
    "    dtype={'CustomerID': str, 'StockCode': str},\n",
    "    parse_dates=['InvoiceDate'],\n",
    ")\n",
    "data = data.dropna()\n",
    "data = data[data['StockCode'].apply(len) == 5]\n",
    "data['timestamp'] = (data['InvoiceDate'] - pd.Timestamp('1970-01-01')) / pd.Timedelta('1s')\n",
    "\n",
    "# Por lo mientras para que no tarde tanto\n",
    "data = data.sample(n=20_000, random_state=42)\n",
    "\n",
    "# Para quitar los clientes con pocas interacciones\n",
    "customers = data['CustomerID'].value_counts()\n",
    "customers = {k: v for (k, v) in customers.items() if v > 2}\n",
    "data = data[data['CustomerID'].isin(customers)]\n",
    "\n",
    "# Para pasar de item_id -> description\n",
    "item_to_description = dict(data[['StockCode', 'Description']].values)\n",
    "\n",
    "print(f'Data shape {data.shape}')\n",
    "data.head()"
   ]
  },
  {
   "cell_type": "code",
   "execution_count": 64,
   "id": "3c18e868-ce59-4ce3-96d2-b960b0aa9ac1",
   "metadata": {},
   "outputs": [],
   "source": [
    "features_dict = {\n",
    "    'user_id': data['CustomerID'].values,\n",
    "    'item_id': data['StockCode'].values,\n",
    "    'item_description': data['Description'].values,\n",
    "    'timestamp': data['timestamp'].values,\n",
    "    'country': data['Country'].values\n",
    "}\n",
    "\n",
    "purchases = tf.data.Dataset.from_tensor_slices(features_dict)"
   ]
  },
  {
   "cell_type": "code",
   "execution_count": 143,
   "id": "37957f82-4919-47fa-9973-17287a3511e4",
   "metadata": {},
   "outputs": [
    {
     "data": {
      "text/plain": [
       "tensorflow.python.data.ops.dataset_ops.TensorSliceDataset"
      ]
     },
     "execution_count": 143,
     "metadata": {},
     "output_type": "execute_result"
    }
   ],
   "source": [
    "type(purchases)"
   ]
  },
  {
   "cell_type": "code",
   "execution_count": 153,
   "id": "51ec1a05-1eaf-4a15-b852-d494538dea8d",
   "metadata": {},
   "outputs": [
    {
     "data": {
      "text/plain": [
       "<function tensorflow.python.ops.gen_dataset_ops.tensor_slice_dataset(components, output_shapes, is_files=False, metadata='', name=None)>"
      ]
     },
     "execution_count": 153,
     "metadata": {},
     "output_type": "execute_result"
    }
   ],
   "source": [
    "tf.raw_ops.TensorSliceDataset"
   ]
  },
  {
   "cell_type": "code",
   "execution_count": 72,
   "id": "10490259-c937-4dd3-a078-7cc57a839f89",
   "metadata": {},
   "outputs": [],
   "source": [
    "interactions = purchases.map(lambda x: {\n",
    "    'user_id': x['user_id'], \n",
    "    'item_id': x['item_id']\n",
    "})\n",
    "\n",
    "users = purchases.map(lambda x: x['user_id'])\n",
    "\n",
    "items = purchases.map(lambda x: x['item_id'])"
   ]
  },
  {
   "cell_type": "code",
   "execution_count": 141,
   "id": "e1ee79b2-8007-4dee-a08e-955a5fcfb4e5",
   "metadata": {},
   "outputs": [
    {
     "name": "stdout",
     "output_type": "stream",
     "text": [
      "{'user_id': b'15640', 'item_id': b'23382'}\n",
      "{'user_id': b'15159', 'item_id': b'79321'}\n",
      "{'user_id': b'14667', 'item_id': b'22470'}\n",
      "{'user_id': b'14527', 'item_id': b'21080'}\n",
      "{'user_id': b'13694', 'item_id': b'21633'}\n",
      "{'user_id': b'15194', 'item_id': b'22867'}\n",
      "{'user_id': b'13408', 'item_id': b'23205'}\n",
      "{'user_id': b'14715', 'item_id': b'82552'}\n",
      "{'user_id': b'17523', 'item_id': b'22751'}\n",
      "{'user_id': b'12748', 'item_id': b'22170'}\n"
     ]
    }
   ],
   "source": [
    "for x in interactions.take(10).as_numpy_iterator():\n",
    "    print(x)"
   ]
  },
  {
   "cell_type": "code",
   "execution_count": 159,
   "id": "92ac86a9-c5e9-4988-9b3c-1bdc326d6c52",
   "metadata": {},
   "outputs": [],
   "source": [
    "user_ids_vocabulary = tf.keras.layers.StringLookup(mask_token=None)\n",
    "user_ids_vocabulary.adapt(users)\n",
    "\n",
    "item_ids_vocabulary = tf.keras.layers.StringLookup(mask_token=None)\n",
    "item_ids_vocabulary.adapt(items)"
   ]
  },
  {
   "cell_type": "code",
   "execution_count": 162,
   "id": "c28d6a69-2486-447b-9b4e-98feb78c1dbd",
   "metadata": {},
   "outputs": [
    {
     "data": {
      "text/plain": [
       "<tf.Tensor: shape=(1, 3), dtype=int64, numpy=array([[ 4,  0, 85]])>"
      ]
     },
     "execution_count": 162,
     "metadata": {},
     "output_type": "execute_result"
    }
   ],
   "source": [
    "data = tf.constant([[\"12748\", \"Hola amigos\", \"15640\"]])\n",
    "user_ids_vocabulary(data)"
   ]
  },
  {
   "cell_type": "code",
   "execution_count": 165,
   "id": "81ca408c-a2d9-4796-90a0-3887911c375d",
   "metadata": {},
   "outputs": [
    {
     "data": {
      "text/plain": [
       "'15640'"
      ]
     },
     "execution_count": 165,
     "metadata": {},
     "output_type": "execute_result"
    }
   ],
   "source": [
    "user_ids_vocabulary.get_vocabulary()[85]"
   ]
  },
  {
   "cell_type": "code",
   "execution_count": 75,
   "id": "9ed40794-34a3-405f-8bdf-62d3cd1b8222",
   "metadata": {},
   "outputs": [],
   "source": [
    "class ECommerceModel(tfrs.Model):\n",
    "    # We derive from a custom base class to help reduce boilerplate. Under the hood,\n",
    "    # these are still plain Keras Models.\n",
    "\n",
    "    def __init__(\n",
    "        self,\n",
    "        user_model: tf.keras.Model,\n",
    "        item_model: tf.keras.Model,\n",
    "        task: tfrs.tasks.Retrieval,\n",
    "    ):\n",
    "        super().__init__()\n",
    "\n",
    "        # Set up user and movie representations.\n",
    "        self.user_model = user_model\n",
    "        self.item_model = item_model\n",
    "\n",
    "        # Set up a retrieval task.\n",
    "        self.task = task\n",
    "\n",
    "    def compute_loss(\n",
    "        self, features: Dict[Text, tf.Tensor], training=False\n",
    "    ) -> tf.Tensor:\n",
    "        # Define how the loss is computed.\n",
    "\n",
    "        user_embeddings = self.user_model(features['user_id'])\n",
    "        item_embeddings = self.item_model(features['item_id'])\n",
    "\n",
    "        return self.task(user_embeddings, item_embeddings)"
   ]
  },
  {
   "cell_type": "code",
   "execution_count": 76,
   "id": "a34b22d7-aa53-499b-92b3-500bd4c31878",
   "metadata": {},
   "outputs": [],
   "source": [
    "# Define user and movie models.\n",
    "user_model = tf.keras.Sequential([\n",
    "    user_ids_vocabulary,\n",
    "    tf.keras.layers.Embedding(user_ids_vocabulary.vocabulary_size(), 64)\n",
    "])\n",
    "\n",
    "item_model = tf.keras.Sequential([\n",
    "    item_ids_vocabulary,\n",
    "    tf.keras.layers.Embedding(item_ids_vocabulary.vocabulary_size(), 64)\n",
    "])\n",
    "\n",
    "# Define your objectives.\n",
    "task = tfrs.tasks.Retrieval(metrics=tfrs.metrics.FactorizedTopK(\n",
    "    items.batch(128).map(item_model)\n",
    "  )\n",
    ")"
   ]
  },
  {
   "cell_type": "code",
   "execution_count": 77,
   "id": "bc599cc6-fba7-4342-875e-36f3c4b2e2a2",
   "metadata": {},
   "outputs": [
    {
     "name": "stdout",
     "output_type": "stream",
     "text": [
      "Epoch 1/3\n",
      "5/5 [==============================] - 9s 2s/step - factorized_top_k/top_1_categorical_accuracy: 5.5350e-04 - factorized_top_k/top_5_categorical_accuracy: 6.6419e-04 - factorized_top_k/top_10_categorical_accuracy: 8.3024e-04 - factorized_top_k/top_50_categorical_accuracy: 0.0024 - factorized_top_k/top_100_categorical_accuracy: 0.0042 - loss: 27921.8698 - regularization_loss: 0.0000e+00 - total_loss: 27921.8698 \n",
      "Epoch 2/3\n",
      "5/5 [==============================] - 8s 2s/step - factorized_top_k/top_1_categorical_accuracy: 0.0025 - factorized_top_k/top_5_categorical_accuracy: 0.0046 - factorized_top_k/top_10_categorical_accuracy: 0.0074 - factorized_top_k/top_50_categorical_accuracy: 0.0280 - factorized_top_k/top_100_categorical_accuracy: 0.0463 - loss: 27518.1344 - regularization_loss: 0.0000e+00 - total_loss: 27518.1344\n",
      "Epoch 3/3\n",
      "5/5 [==============================] - 8s 2s/step - factorized_top_k/top_1_categorical_accuracy: 0.0118 - factorized_top_k/top_5_categorical_accuracy: 0.0299 - factorized_top_k/top_10_categorical_accuracy: 0.0440 - factorized_top_k/top_50_categorical_accuracy: 0.1415 - factorized_top_k/top_100_categorical_accuracy: 0.2350 - loss: 22355.2217 - regularization_loss: 0.0000e+00 - total_loss: 22355.2217\n"
     ]
    },
    {
     "data": {
      "text/plain": [
       "<keras.callbacks.History at 0x7f231e471790>"
      ]
     },
     "execution_count": 77,
     "metadata": {},
     "output_type": "execute_result"
    }
   ],
   "source": [
    "# Create a retrieval model.\n",
    "model = ECommerceModel(user_model, item_model, task)\n",
    "model.compile(optimizer=tf.keras.optimizers.Adagrad(0.5))\n",
    "\n",
    "# Train for 3 epochs.\n",
    "model.fit(interactions.batch(4096), epochs=3)"
   ]
  },
  {
   "cell_type": "code",
   "execution_count": 93,
   "id": "9c96432f-2ef5-4284-b2ba-a4f9562b7c9c",
   "metadata": {},
   "outputs": [
    {
     "data": {
      "text/plain": [
       "['14159',\n",
       " '14156',\n",
       " '14796',\n",
       " '14298',\n",
       " '14056',\n",
       " '15039',\n",
       " '18118',\n",
       " '17511',\n",
       " '16033',\n",
       " '16931']"
      ]
     },
     "execution_count": 93,
     "metadata": {},
     "output_type": "execute_result"
    }
   ],
   "source": [
    "user_ids_vocabulary.get_vocabulary()[10:20]"
   ]
  },
  {
   "cell_type": "code",
   "execution_count": 178,
   "id": "d159cefe-1301-414d-81fe-8605ae7d9f57",
   "metadata": {},
   "outputs": [
    {
     "name": "stdout",
     "output_type": "stream",
     "text": [
      "Top 3 recommendations for user 42: [b'20773' b'20854' b'23140' b'21879' b'23004' b'85144' b'22175' b'21098'\n",
      " b'21616' b'37413']\n"
     ]
    }
   ],
   "source": [
    "# Use brute-force search to set up retrieval using the trained representations.\n",
    "index = tfrs.layers.factorized_top_k.BruteForce(model.user_model)\n",
    "index.index_from_dataset(\n",
    "    unique_items.map(lambda x: x['item_id']).batch(128).map(lambda title: (title, model.item_model(title))))\n",
    "\n",
    "# Get some recommendations.\n",
    "scores, titles = index(np.array([\"16931\"]))\n",
    "print(f\"Top 3 recommendations for user 42: {titles[0, :10]}\")"
   ]
  },
  {
   "cell_type": "code",
   "execution_count": 174,
   "id": "116dab69-060d-4458-a326-38f848f07ac6",
   "metadata": {},
   "outputs": [
    {
     "data": {
      "text/plain": [
       "[{'item_id': <tf.Tensor: shape=(), dtype=string, numpy=b'23382'>}]"
      ]
     },
     "execution_count": 174,
     "metadata": {},
     "output_type": "execute_result"
    }
   ],
   "source": [
    "unique_items = {'item_id': data['StockCode'].unique()}\n",
    "unique_items = tf.data.Dataset.from_tensor_slices(unique_items)\n",
    "\n",
    "list(unique_items.take(1))"
   ]
  },
  {
   "cell_type": "code",
   "execution_count": 175,
   "id": "48fe63a5-44bf-4836-813d-081c0ff76cd9",
   "metadata": {},
   "outputs": [
    {
     "name": "stdout",
     "output_type": "stream",
     "text": [
      "History :\n",
      "        StockCode                         Description\n",
      "412544     23319         BOX OF 6 MINI 50'S CRACKERS\n",
      "428797     22306  SILVER MUG BONE CHINA TREE OF LIFE\n",
      "484926     22110         BIRD HOUSE HOT WATER BOTTLE\n",
      "484909     23210    WHITE ROCKING HORSE HAND PAINTED\n",
      "484940     23439          HAND WARMER RED LOVE HEART\n",
      "523185     21616     4 PEAR BOTANICAL DINNER CANDLES\n",
      "523190     23202              JUMBO BAG VINTAGE LEAF\n",
      "523184     23265    SET OF 3 WOODEN TREE DECORATIONS\n",
      "523172     22422                 TOOTHPASTE TUBE PEN\n",
      "523137     21098               CHRISTMAS TOILET ROLL\n",
      "\n",
      "Recommendations     Item_id                      Description    Scores\n",
      "0  b'20773'            BLUE PAISLEY NOTEBOOK  8.819242\n",
      "1  b'20854'      BLUE PATCH PURSE PINK HEART  8.212093\n",
      "2  b'23140'     TRIPLE WIRE HOOK IVORY HEART  7.386757\n",
      "3  b'21879'                 HEARTS GIFT TAPE  6.392712\n",
      "4  b'23004'        TRAVEL CARD WALLET PANTRY  6.013500\n",
      "5  b'85144'  JARDIN ETCHED GLASS CHEESE DISH  5.903848\n",
      "6  b'22175'                PINK OWL SOFT TOY  5.571864\n",
      "7  b'21098'            CHRISTMAS TOILET ROLL  5.256510\n",
      "8  b'21616'  4 PEAR BOTANICAL DINNER CANDLES  5.173887\n",
      "9  b'37413'           ICON MUG REVOLUTIONARY  5.014459\n"
     ]
    }
   ],
   "source": [
    "user_id = '16931'\n",
    "\n",
    "past_purchases = data[data['CustomerID'] == user_id].sort_values(by='InvoiceDate')\n",
    "print(f\"History :\\n {past_purchases[['StockCode', 'Description']].tail(10)}\\n\")\n",
    "\n",
    "# Use brute-force search to set up retrieval using the trained representations.\n",
    "index = tfrs.layers.factorized_top_k.BruteForce(model.user_model)\n",
    "index.index_from_dataset(\n",
    "    unique_items.map(lambda x: x['item_id']).batch(128).map(lambda title: (title, model.item_model(title))))\n",
    "\n",
    "# Get some recommendations.\n",
    "scores, items = index(np.array([user_id]))\n",
    "recommendations = pd.DataFrame()\n",
    "recommendations['Item_id'] = items.numpy().flatten()\n",
    "recommendations['Description'] = recommendations['Item_id'].apply(lambda x: x.decode('utf-8')).map(item_to_description)\n",
    "recommendations['Scores'] = scores.numpy().flatten()\n",
    "\n",
    "print(f'Recommendations {recommendations}')"
   ]
  }
 ],
 "metadata": {
  "kernelspec": {
   "display_name": "Python 3 (ipykernel)",
   "language": "python",
   "name": "python3"
  },
  "language_info": {
   "codemirror_mode": {
    "name": "ipython",
    "version": 3
   },
   "file_extension": ".py",
   "mimetype": "text/x-python",
   "name": "python",
   "nbconvert_exporter": "python",
   "pygments_lexer": "ipython3",
   "version": "3.7.13"
  }
 },
 "nbformat": 4,
 "nbformat_minor": 5
}
